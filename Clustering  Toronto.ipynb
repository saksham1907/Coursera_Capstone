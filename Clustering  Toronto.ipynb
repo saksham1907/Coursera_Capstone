{
 "cells": [
  {
   "cell_type": "markdown",
   "metadata": {},
   "source": [
    "# Segmenting and Clustering Neighborhoods in Toronto"
   ]
  },
  {
   "cell_type": "markdown",
   "metadata": {},
   "source": [
    "**Extracting out Toronto neighbourhood data from their wikipedia page https://en.wikipedia.org/wiki/List_of_postal_codes_of_Canada:_M**"
   ]
  },
  {
   "cell_type": "markdown",
   "metadata": {},
   "source": [
    "### Reading data from HTML using Beautiful Soup Library"
   ]
  },
  {
   "cell_type": "markdown",
   "metadata": {},
   "source": [
    "Importing Beautiful Soup package and other necessary libraries for data extraction"
   ]
  },
  {
   "cell_type": "code",
   "execution_count": 1,
   "metadata": {},
   "outputs": [],
   "source": [
    "# from bs4 import BeautifulSoup\n",
    "# import requests\n",
    "# source = requests.get(' https://en.wikipedia.org/wiki/List_of_postal_codes_of_Canada:_M').text\n",
    "# soup = BeautifulSoup(source,'lxml')\n",
    "# table = soup.table  # or table = soup.find('table')\n",
    "# table_rows = table.find_all('tr')\n",
    "# for tr in table_rows:\n",
    "#     td = tr.find_all('td')\n",
    "#     row = [i.text for i in td]\n",
    "#     print(row)"
   ]
  },
  {
   "cell_type": "markdown",
   "metadata": {},
   "source": [
    "Let us see another method to extract out datframe from html web page\n",
    "### Reading datframe from HTML through pandas \n",
    "It is much simpler to extract out dataframe from html using pandas compared to Beautiful Soup package"
   ]
  },
  {
   "cell_type": "code",
   "execution_count": 320,
   "metadata": {},
   "outputs": [],
   "source": [
    "import pandas as pd\n",
    "data = []\n",
    "dfs = pd.read_html('https://en.wikipedia.org/wiki/List_of_postal_codes_of_Canada:_M',header=0)\n",
    "for df in dfs:\n",
    "    data.append(df)\n",
    "\n",
    "table = pd.DataFrame(data[0])\n",
    "\n"
   ]
  },
  {
   "cell_type": "markdown",
   "metadata": {},
   "source": [
    "**1. Removing the cells with borough 'Not assigned'**"
   ]
  },
  {
   "cell_type": "code",
   "execution_count": 321,
   "metadata": {},
   "outputs": [],
   "source": [
    "table.drop(table.index[table.Borough == 'Not assigned'], inplace=True)"
   ]
  },
  {
   "cell_type": "markdown",
   "metadata": {},
   "source": [
    "**2. Combining rows with same postal code**"
   ]
  },
  {
   "cell_type": "code",
   "execution_count": 322,
   "metadata": {},
   "outputs": [],
   "source": [
    "table_final = table.groupby(['Postcode','Borough'])['Neighbourhood'].apply(','.join).reset_index()"
   ]
  },
  {
   "cell_type": "markdown",
   "metadata": {},
   "source": [
    "**3. For cells having a borough but a 'Not assigned' neighborhood, replacing neighborhood with the borough name** "
   ]
  },
  {
   "cell_type": "code",
   "execution_count": 323,
   "metadata": {},
   "outputs": [],
   "source": [
    "table_final.loc[table_1['Neighbourhood'] == 'Not assigned']\n",
    "table_final.iloc[85,2] = table_1.iloc[85,1]\n"
   ]
  },
  {
   "cell_type": "markdown",
   "metadata": {},
   "source": [
    "**Shape of final dataframe**"
   ]
  },
  {
   "cell_type": "code",
   "execution_count": 324,
   "metadata": {},
   "outputs": [
    {
     "data": {
      "text/plain": [
       "(103, 3)"
      ]
     },
     "execution_count": 324,
     "metadata": {},
     "output_type": "execute_result"
    }
   ],
   "source": [
    "table_final.shape"
   ]
  },
  {
   "cell_type": "code",
   "execution_count": null,
   "metadata": {},
   "outputs": [],
   "source": []
  }
 ],
 "metadata": {
  "kernelspec": {
   "display_name": "Python 2",
   "language": "python",
   "name": "python2"
  },
  "language_info": {
   "codemirror_mode": {
    "name": "ipython",
    "version": 2
   },
   "file_extension": ".py",
   "mimetype": "text/x-python",
   "name": "python",
   "nbconvert_exporter": "python",
   "pygments_lexer": "ipython2",
   "version": "2.7.16"
  }
 },
 "nbformat": 4,
 "nbformat_minor": 2
}
